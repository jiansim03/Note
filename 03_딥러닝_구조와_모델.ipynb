{
  "nbformat": 4,
  "nbformat_minor": 0,
  "metadata": {
    "colab": {
      "provenance": [],
      "toc_visible": true,
      "authorship_tag": "ABX9TyOiOWSYLsHinT5dArXB2z4f",
      "include_colab_link": true
    },
    "kernelspec": {
      "name": "python3",
      "display_name": "Python 3"
    },
    "language_info": {
      "name": "python"
    }
  },
  "cells": [
    {
      "cell_type": "markdown",
      "metadata": {
        "id": "view-in-github",
        "colab_type": "text"
      },
      "source": [
        "<a href=\"https://colab.research.google.com/github/jiansim03/Note/blob/main/03_%EB%94%A5%EB%9F%AC%EB%8B%9D_%EA%B5%AC%EC%A1%B0%EC%99%80_%EB%AA%A8%EB%8D%B8.ipynb\" target=\"_parent\"><img src=\"https://colab.research.google.com/assets/colab-badge.svg\" alt=\"Open In Colab\"/></a>"
      ]
    },
    {
      "cell_type": "markdown",
      "source": [
        "# 3-3. 딥러닝 모델\n",
        "### Sequential API\n",
        "- 모델이 순차적인 구조로 진행될 때 사용하는 가장 단순한 방법\n",
        "- 다중입력, 출력이 존재하는 등의 복잡한 모델은 구성할 수 없음\n",
        "### Functional API\n",
        "- 모델 생성에 권장되는 방법\n",
        "- 다중 입출력 다룰 수 있음\n",
        "- 딥러닝 모델을 복잡, 유연하게 구성하는 것이 가능\n",
        "\n",
        "### subclassing API\n",
        "- 커스터마이징에 최적화된 방법으로 Model 클래스를 상속받아서 사용\n",
        "- Functional API로도 구현할 수 없는 모델들도 구현 가능\n",
        "- 단, 객체지향 프로그래밍에 익숙해야함"
      ],
      "metadata": {
        "id": "c4FAVTpjvohr"
      }
    },
    {
      "cell_type": "code",
      "source": [
        "# 필요한 모듈을 임포트\n",
        "from tensorflow.keras import layers, models, utils\n"
      ],
      "metadata": {
        "id": "hxGZZjgfx9vh"
      },
      "execution_count": 51,
      "outputs": []
    },
    {
      "cell_type": "markdown",
      "source": [
        "## Sequential API\n",
        "Sequential 객체 생성 후, add()를 이용하여 사용할 레이어 추가한다"
      ],
      "metadata": {
        "id": "kkw0YEhUxl0C"
      }
    },
    {
      "cell_type": "code",
      "source": [
        "model = models.Sequential()\n",
        "model.add(layers.Input(shape=(28,28)))\n",
        "model.add(layers.Dense(300, activation='relu'))\n",
        "model.add(layers.Dense(10, activation='softmax'))\n",
        "model.summary()"
      ],
      "metadata": {
        "colab": {
          "base_uri": "https://localhost:8080/"
        },
        "id": "WSVE-H-Jxxmg",
        "outputId": "fae4cdf0-c4c0-49f6-ae20-b9fc6ebe2859"
      },
      "execution_count": 52,
      "outputs": [
        {
          "output_type": "stream",
          "name": "stdout",
          "text": [
            "Model: \"sequential_11\"\n",
            "_________________________________________________________________\n",
            " Layer (type)                Output Shape              Param #   \n",
            "=================================================================\n",
            " dense_29 (Dense)            (None, 28, 300)           8700      \n",
            "                                                                 \n",
            " dense_30 (Dense)            (None, 28, 10)            3010      \n",
            "                                                                 \n",
            "=================================================================\n",
            "Total params: 11,710\n",
            "Trainable params: 11,710\n",
            "Non-trainable params: 0\n",
            "_________________________________________________________________\n"
          ]
        }
      ]
    },
    {
      "cell_type": "markdown",
      "source": [
        "**plot_model():** 딥러닝 모델 모습 시각화하는 함수"
      ],
      "metadata": {
        "id": "CkQwYr2D0mNn"
      }
    },
    {
      "cell_type": "code",
      "source": [
        "utils.plot_model(model)"
      ],
      "metadata": {
        "colab": {
          "base_uri": "https://localhost:8080/",
          "height": 272
        },
        "id": "-FvG7TLOzNMt",
        "outputId": "756d9af4-7f2b-4d58-8fe7-6602cac30a5b"
      },
      "execution_count": 53,
      "outputs": [
        {
          "output_type": "execute_result",
          "data": {
            "image/png": "[encoded data removed]",
            "text/plain": [
              "<IPython.core.display.Image object>"
            ]
          },
          "metadata": {},
          "execution_count": 53
        }
      ]
    },
    {
      "cell_type": "code",
      "source": [
        "from keras.api._v2.keras import activations\n",
        "# sequential 인자에 한 번에 추가하기\n",
        "model = models.Sequential([layers.Input(shape=(28,28), name='Input'),\n",
        "                           layers.Dense(300,activation='relu', name='Dense1'),\n",
        "                           layers.Dense(300,activation='relu', name='Dense2'),\n",
        "                           layers.Dense(10,activation='softmax', name='Output')\n",
        "                           ])\n",
        "model.summary()\n"
      ],
      "metadata": {
        "colab": {
          "base_uri": "https://localhost:8080/"
        },
        "id": "ES7PQUKK05I_",
        "outputId": "8d968102-7a54-46e9-f9f0-9ccef3dc2a31"
      },
      "execution_count": 54,
      "outputs": [
        {
          "output_type": "stream",
          "name": "stdout",
          "text": [
            "Model: \"sequential_12\"\n",
            "_________________________________________________________________\n",
            " Layer (type)                Output Shape              Param #   \n",
            "=================================================================\n",
            " Dense1 (Dense)              (None, 28, 300)           8700      \n",
            "                                                                 \n",
            " Dense2 (Dense)              (None, 28, 300)           90300     \n",
            "                                                                 \n",
            " Output (Dense)              (None, 28, 10)            3010      \n",
            "                                                                 \n",
            "=================================================================\n",
            "Total params: 102,010\n",
            "Trainable params: 102,010\n",
            "Non-trainable params: 0\n",
            "_________________________________________________________________\n"
          ]
        }
      ]
    },
    {
      "cell_type": "code",
      "source": [
        "utils.plot_model(model)"
      ],
      "metadata": {
        "colab": {
          "base_uri": "https://localhost:8080/",
          "height": 369
        },
        "id": "dpbEY63U259n",
        "outputId": "57d4e26d-f730-459a-d653-7e80e84b2725"
      },
      "execution_count": 55,
      "outputs": [
        {
          "output_type": "execute_result",
          "data": {
            "image/png": "[encoded data removed]",
            "text/plain": [
              "<IPython.core.display.Image object>"
            ]
          },
          "metadata": {},
          "execution_count": 55
        }
      ]
    },
    {
      "cell_type": "markdown",
      "source": [
        "## Functional API"
      ],
      "metadata": {
        "id": "VPbp2m_B3Kr4"
      }
    },
    {
      "cell_type": "code",
      "source": [
        "inputs = layers.Input(shape=(28,28,1))\n",
        "x = layers.Flatten(input_shape=(28, 28, 1))(inputs)\n",
        "x = layers.Dense(300, activation='relu')(x)\n",
        "x = layers.Dense(100, activation='relu')(x)\n",
        "x = layers.Dense(10, activation='softmax')(x)\n",
        "\n",
        "model = models.Model(inputs=inputs, outputs=x)\n",
        "model.summary()"
      ],
      "metadata": {
        "colab": {
          "base_uri": "https://localhost:8080/"
        },
        "id": "_V0p1jjC3TtA",
        "outputId": "ababead4-6562-4513-cbfd-c3ac84a01c39"
      },
      "execution_count": 56,
      "outputs": [
        {
          "output_type": "stream",
          "name": "stdout",
          "text": [
            "Model: \"model_6\"\n",
            "_________________________________________________________________\n",
            " Layer (type)                Output Shape              Param #   \n",
            "=================================================================\n",
            " input_16 (InputLayer)       [(None, 28, 28, 1)]       0         \n",
            "                                                                 \n",
            " flatten_7 (Flatten)         (None, 784)               0         \n",
            "                                                                 \n",
            " dense_31 (Dense)            (None, 300)               235500    \n",
            "                                                                 \n",
            " dense_32 (Dense)            (None, 100)               30100     \n",
            "                                                                 \n",
            " dense_33 (Dense)            (None, 10)                1010      \n",
            "                                                                 \n",
            "=================================================================\n",
            "Total params: 266,610\n",
            "Trainable params: 266,610\n",
            "Non-trainable params: 0\n",
            "_________________________________________________________________\n"
          ]
        }
      ]
    },
    {
      "cell_type": "code",
      "source": [
        "# 모델을 시각화 해보자\n",
        "utils.plot_model(model)"
      ],
      "metadata": {
        "colab": {
          "base_uri": "https://localhost:8080/",
          "height": 466
        },
        "id": "kWOSF7M75hi-",
        "outputId": "a5fa6fe3-34b1-47af-f951-21a28f882adf"
      },
      "execution_count": 57,
      "outputs": [
        {
          "output_type": "execute_result",
          "data": {
            "image/png": "[encoded data removed]",
            "text/plain": [
              "<IPython.core.display.Image object>"
            ]
          },
          "metadata": {},
          "execution_count": 57
        }
      ]
    },
    {
      "cell_type": "code",
      "source": [
        "# Functional API에서는 Input 객체를 여러 레이어에서 사용하는 것도 가능하다\n",
        "# concatenate() 이용해 Dense 레이어 결과와 Input 결합\n",
        "\n",
        "inputs =  layers.Input(shape=(28,28))\n",
        "hidden1 = layers.Dense(100, activation='relu')(inputs)\n",
        "hidden2 = layers.Dense(30, activation='relu')(hidden1)\n",
        "concat = layers.Concatenate()([inputs, hidden2]) # inputs과 hidden2를 결합\n",
        "output = layers.Dense(1)(concat)\n",
        "\n",
        "model = models.Model(inputs=[inputs], outputs=[output])\n",
        "model.summary()"
      ],
      "metadata": {
        "colab": {
          "base_uri": "https://localhost:8080/"
        },
        "id": "vgKCZNfA57ql",
        "outputId": "78563725-0832-454e-bd30-705c4d2912b8"
      },
      "execution_count": 58,
      "outputs": [
        {
          "output_type": "stream",
          "name": "stdout",
          "text": [
            "Model: \"model_7\"\n",
            "__________________________________________________________________________________________________\n",
            " Layer (type)                   Output Shape         Param #     Connected to                     \n",
            "==================================================================================================\n",
            " input_17 (InputLayer)          [(None, 28, 28)]     0           []                               \n",
            "                                                                                                  \n",
            " dense_34 (Dense)               (None, 28, 100)      2900        ['input_17[0][0]']               \n",
            "                                                                                                  \n",
            " dense_35 (Dense)               (None, 28, 30)       3030        ['dense_34[0][0]']               \n",
            "                                                                                                  \n",
            " concatenate_3 (Concatenate)    (None, 28, 58)       0           ['input_17[0][0]',               \n",
            "                                                                  'dense_35[0][0]']               \n",
            "                                                                                                  \n",
            " dense_36 (Dense)               (None, 28, 1)        59          ['concatenate_3[0][0]']          \n",
            "                                                                                                  \n",
            "==================================================================================================\n",
            "Total params: 5,989\n",
            "Trainable params: 5,989\n",
            "Non-trainable params: 0\n",
            "__________________________________________________________________________________________________\n"
          ]
        }
      ]
    },
    {
      "cell_type": "code",
      "source": [
        "utils.plot_model(model)"
      ],
      "metadata": {
        "colab": {
          "base_uri": "https://localhost:8080/",
          "height": 466
        },
        "id": "bkbvfCGW6vXT",
        "outputId": "0d860801-d06e-4323-8fb2-a3a0ad2c562f"
      },
      "execution_count": 59,
      "outputs": [
        {
          "output_type": "execute_result",
          "data": {
            "image/png": "[encoded data removed]",
            "text/plain": [
              "<IPython.core.display.Image object>"
            ]
          },
          "metadata": {},
          "execution_count": 59
        }
      ]
    },
    {
      "cell_type": "code",
      "source": [
        "# Functional API는 여러 Input 객체 사용하는 것도 가능\n",
        "\n",
        "input_1 = layers.Input(shape=(10,10), name='Input_1') # 라이브러리가 아니라 모듈명을 입력해야한다(keras X, layers O)\n",
        "input_2 = layers.Input(shape=(10,28), name='Input_2')\n",
        "\n",
        "hidden1 = layers.Dense(100, activation='relu')(input_2)\n",
        "hidden2 = layers.Dense(10, activation='relu')(hidden1)\n",
        "concat = layers.Concatenate()([input_1, hidden2])\n",
        "output = layers.Dense(1, activation='sigmoid', name='output')(concat)\n",
        "\n",
        "model = models.Model(inputs=[input_1,input_2], outputs = [output])\n",
        "model.summary()"
      ],
      "metadata": {
        "colab": {
          "base_uri": "https://localhost:8080/"
        },
        "id": "k8Ow2Wl88baj",
        "outputId": "468534ec-f07b-44e0-c235-4ffbdd2f4c1e"
      },
      "execution_count": 62,
      "outputs": [
        {
          "output_type": "stream",
          "name": "stdout",
          "text": [
            "Model: \"model_8\"\n",
            "__________________________________________________________________________________________________\n",
            " Layer (type)                   Output Shape         Param #     Connected to                     \n",
            "==================================================================================================\n",
            " Input_2 (InputLayer)           [(None, 10, 28)]     0           []                               \n",
            "                                                                                                  \n",
            " dense_39 (Dense)               (None, 10, 100)      2900        ['Input_2[0][0]']                \n",
            "                                                                                                  \n",
            " Input_1 (InputLayer)           [(None, 10, 10)]     0           []                               \n",
            "                                                                                                  \n",
            " dense_40 (Dense)               (None, 10, 10)       1010        ['dense_39[0][0]']               \n",
            "                                                                                                  \n",
            " concatenate_5 (Concatenate)    (None, 10, 20)       0           ['Input_1[0][0]',                \n",
            "                                                                  'dense_40[0][0]']               \n",
            "                                                                                                  \n",
            " output (Dense)                 (None, 10, 1)        21          ['concatenate_5[0][0]']          \n",
            "                                                                                                  \n",
            "==================================================================================================\n",
            "Total params: 3,931\n",
            "Trainable params: 3,931\n",
            "Non-trainable params: 0\n",
            "__________________________________________________________________________________________________\n"
          ]
        }
      ]
    },
    {
      "cell_type": "code",
      "source": [
        "utils.plot_model(model)"
      ],
      "metadata": {
        "colab": {
          "base_uri": "https://localhost:8080/",
          "height": 466
        },
        "id": "5umlqdF89baZ",
        "outputId": "807d9b71-775f-41fa-8432-53fe8806cdb8"
      },
      "execution_count": 63,
      "outputs": [
        {
          "output_type": "execute_result",
          "data": {
            "image/png": "[encoded data removed]",
            "text/plain": [
              "<IPython.core.display.Image object>"
            ]
          },
          "metadata": {},
          "execution_count": 63
        }
      ]
    },
    {
      "cell_type": "code",
      "source": [
        "# Functional API는 결과를 여러개로 나눠서 사용하는 것도 가능하다\n",
        "input_ = layers.Input(shape=(10,10), name='input_')\n",
        "hidden1 = layers.Dense(100, activation='relu')(input_)\n",
        "hidden2 = layers.Dense(10, activation='relu')(hidden1)\n",
        "output = layers.Dense(1, activation='sigmoid', name='main_output')(hidden2)\n",
        "sub_out = layers.Dense(1, name='sum_output')(hidden2)\n",
        "\n",
        "model = models.Model(inputs=[input_], outputs=[output, sub_out])\n",
        "model.summary()"
      ],
      "metadata": {
        "colab": {
          "base_uri": "https://localhost:8080/"
        },
        "id": "5mpNPSBw-gef",
        "outputId": "cb22cc23-8304-48f6-de46-56e233d7282c"
      },
      "execution_count": 64,
      "outputs": [
        {
          "output_type": "stream",
          "name": "stdout",
          "text": [
            "Model: \"model_9\"\n",
            "__________________________________________________________________________________________________\n",
            " Layer (type)                   Output Shape         Param #     Connected to                     \n",
            "==================================================================================================\n",
            " input_ (InputLayer)            [(None, 10, 10)]     0           []                               \n",
            "                                                                                                  \n",
            " dense_41 (Dense)               (None, 10, 100)      1100        ['input_[0][0]']                 \n",
            "                                                                                                  \n",
            " dense_42 (Dense)               (None, 10, 10)       1010        ['dense_41[0][0]']               \n",
            "                                                                                                  \n",
            " main_output (Dense)            (None, 10, 1)        11          ['dense_42[0][0]']               \n",
            "                                                                                                  \n",
            " sum_output (Dense)             (None, 10, 1)        11          ['dense_42[0][0]']               \n",
            "                                                                                                  \n",
            "==================================================================================================\n",
            "Total params: 2,132\n",
            "Trainable params: 2,132\n",
            "Non-trainable params: 0\n",
            "__________________________________________________________________________________________________\n"
          ]
        }
      ]
    },
    {
      "cell_type": "code",
      "source": [
        "utils.plot_model(model)"
      ],
      "metadata": {
        "colab": {
          "base_uri": "https://localhost:8080/",
          "height": 369
        },
        "id": "Zo0CcSsv_slK",
        "outputId": "49803263-1bdf-4910-a14d-571fc8f530fe"
      },
      "execution_count": 65,
      "outputs": [
        {
          "output_type": "execute_result",
          "data": {
            "image/png": "[encoded data removed]",
            "text/plain": [
              "<IPython.core.display.Image object>"
            ]
          },
          "metadata": {},
          "execution_count": 65
        }
      ]
    },
    {
      "cell_type": "markdown",
      "source": [
        "### 다중 입출력 모델"
      ],
      "metadata": {
        "id": "ssDHa-Bo_24m"
      }
    },
    {
      "cell_type": "code",
      "source": [
        "input_1 = layers.Input(shape=(10,10), name='input_1')\n",
        "input_2 = layers.Input(shape=(10,28), name='input_2')\n",
        "hidden1 = layers.Dense(100, activation='relu')(input_2)\n",
        "hidden2 = layers.Dense(10, activation='relu')(hidden1)\n",
        "concat = layers.Concatenate()([input_1, hidden2])\n",
        "output = layers.Dense(1, activation='sigmoid', name='main_output')(concat)\n",
        "sub_out = layers.Dense(1, name='sum_output')(hidden2)\n",
        "\n",
        "sub_out = models.Model(inputs=[input_1, input_2], outputs=[output, sub_out])\n",
        "model.summary()"
      ],
      "metadata": {
        "colab": {
          "base_uri": "https://localhost:8080/"
        },
        "id": "Y42MrvWPAANT",
        "outputId": "7a3f8f1a-9f5c-4b88-910b-e61257e57574"
      },
      "execution_count": 70,
      "outputs": [
        {
          "output_type": "stream",
          "name": "stdout",
          "text": [
            "Model: \"model_9\"\n",
            "__________________________________________________________________________________________________\n",
            " Layer (type)                   Output Shape         Param #     Connected to                     \n",
            "==================================================================================================\n",
            " input_ (InputLayer)            [(None, 10, 10)]     0           []                               \n",
            "                                                                                                  \n",
            " dense_41 (Dense)               (None, 10, 100)      1100        ['input_[0][0]']                 \n",
            "                                                                                                  \n",
            " dense_42 (Dense)               (None, 10, 10)       1010        ['dense_41[0][0]']               \n",
            "                                                                                                  \n",
            " main_output (Dense)            (None, 10, 1)        11          ['dense_42[0][0]']               \n",
            "                                                                                                  \n",
            " sum_output (Dense)             (None, 10, 1)        11          ['dense_42[0][0]']               \n",
            "                                                                                                  \n",
            "==================================================================================================\n",
            "Total params: 2,132\n",
            "Trainable params: 2,132\n",
            "Non-trainable params: 0\n",
            "__________________________________________________________________________________________________\n"
          ]
        }
      ]
    },
    {
      "cell_type": "code",
      "source": [
        "utils.plot_model(model)"
      ],
      "metadata": {
        "colab": {
          "base_uri": "https://localhost:8080/",
          "height": 369
        },
        "id": "d08HiHU2BK9J",
        "outputId": "23365b8a-f27f-422a-c170-fa468c18c6f8"
      },
      "execution_count": 71,
      "outputs": [
        {
          "output_type": "execute_result",
          "data": {
            "image/png": "[encoded data removed]",
            "text/plain": [
              "<IPython.core.display.Image object>"
            ]
          },
          "metadata": {},
          "execution_count": 71
        }
      ]
    },
    {
      "cell_type": "markdown",
      "source": [
        "## Subclassing API\n",
        "- Model 클래스를 상속받아서 사용한다\n",
        "- 기능\n",
        "  - fit(): 모델학습  \n",
        "  - evaluate(): 모델 평가\n",
        "  - predict(): 모델 예측\n",
        "  - save(): 모델 저장\n",
        "  - load(): 모델 불러오기\n",
        "  - call(): 메소드 안에서 원하는 계산 가능"
      ],
      "metadata": {
        "id": "Lch425-JBxCW"
      }
    },
    {
      "cell_type": "code",
      "source": [
        "class MyModel(models.Model):\n",
        "  # 초기화 메서드\n",
        "  def __init__(self, units=30, activation='relu', **kwargs):\n",
        "    super(MyModel, self).__init__(**kwargs)\n",
        "    self.dense_layer1 = layers.Dense(300, activation=activation)\n",
        "    self.dense_layer2 = layers.Dense(100, activation=activation)\n",
        "    self.dense_layer3 = layers.Dense(units, activation=activation)\n",
        "    self.output_layer = layers.Dense(10, actvation='softmax')\n",
        "  # 계산하는 메서드\n",
        "  def call(self, inputs):\n",
        "    x = self.dense_layer1(inputs)\n",
        "    x = self.dense_layer2(x)\n",
        "    x = self.dense_layer3(x)\n",
        "    x = self.output_layer(x)\n",
        "    return x\n"
      ],
      "metadata": {
        "id": "3jZlsV9mCaMs"
      },
      "execution_count": 74,
      "outputs": []
    },
    {
      "cell_type": "markdown",
      "source": [
        "## 실습해보기\n",
        "Sequential API"
      ],
      "metadata": {
        "id": "jre7Dq5TE9Ku"
      }
    },
    {
      "cell_type": "code",
      "source": [
        "model = models.Sequential()\n",
        "\n",
        "# (100, 100, 3) 형태의 데이터를 받는 Input 레이어를 쌓으세요.\n",
        "# [[YOUR CODE]]\n",
        "model.add(layers.Input(shape=(100,100,3)))\n",
        "\n",
        "# Flatten 레이어를 쌓으세요.\n",
        "# [[YOUR CODE]]\n",
        "model.add(layers.Flatten())\n",
        "\n",
        "# Unit의 수는 400, 활성화함수는 ReLU를 사용하는 Dense 레이어를 쌓으세요.\n",
        "# [[YOUR CODE]]\n",
        "model.add(layers.Dense(400, activation='relu'))\n",
        "\n",
        "# Unit의 수는 200, 활성화함수는 ReLU를 사용하는 Dense 레이어를 쌓으세요.\n",
        "# [[YOUR CODE]]\n",
        "model.add(layers.Dense(200, activation='relu'))\n",
        "\n",
        "# Unit의 수는 100, 활성화함수는 Softmax를 사용하는 Dense 레이어를 쌓으세요.\n",
        "# [[YOUR CODE]]\n",
        "model.add(layers.Dense(100, activation='softmax'))\n",
        "\n",
        "model.summary()"
      ],
      "metadata": {
        "colab": {
          "base_uri": "https://localhost:8080/"
        },
        "id": "Q5Oht-mGF2qC",
        "outputId": "6f84545f-18ec-445d-e30c-3fc43f8aadae"
      },
      "execution_count": 76,
      "outputs": [
        {
          "output_type": "stream",
          "name": "stdout",
          "text": [
            "Model: \"sequential_13\"\n",
            "_________________________________________________________________\n",
            " Layer (type)                Output Shape              Param #   \n",
            "=================================================================\n",
            " flatten_8 (Flatten)         (None, 30000)             0         \n",
            "                                                                 \n",
            " dense_51 (Dense)            (None, 400)               12000400  \n",
            "                                                                 \n",
            " dense_52 (Dense)            (None, 200)               80200     \n",
            "                                                                 \n",
            " dense_53 (Dense)            (None, 100)               20100     \n",
            "                                                                 \n",
            "=================================================================\n",
            "Total params: 12,100,700\n",
            "Trainable params: 12,100,700\n",
            "Non-trainable params: 0\n",
            "_________________________________________________________________\n"
          ]
        }
      ]
    },
    {
      "cell_type": "markdown",
      "source": [
        "Functional API"
      ],
      "metadata": {
        "id": "E5cC71Q1HO50"
      }
    },
    {
      "cell_type": "code",
      "source": [
        "# (100, 100, 3) 형태의 데이터를 받는 Input 레이어를 쌓으세요\n",
        "inputs = layers.Input(shape=(100,100,3))\n",
        "\n",
        "\n",
        "# Flatten 레이어를 쌓으세요.\n",
        "x = layers.Flatten(input_shape=(100,100,3))(inputs)\n",
        "\n",
        "# Unit의 수는 400, 활성화함수는 ReLU를 사용하는 Dense 레이어를 쌓으세요.\n",
        "x = layers.Dense(400, activation='relu')(x)\n",
        "\n",
        "# Unit의 수는 200, 활성화함수는 ReLU를 사용하는 Dense 레이어를 쌓으세요.\n",
        "x = layers.Dense(200, activation='relu')(x)\n",
        "\n",
        "\n",
        "# Unit의 수는 100, 활성화함수는 Softmax를 사용하는 Dense 레이어를 쌓으세요.\n",
        "x = layers.Dense(100, activation='softmax')(x)\n",
        "\n",
        "model = models.Model(inputs = inputs, outputs = x)\n",
        "model.summary()"
      ],
      "metadata": {
        "colab": {
          "base_uri": "https://localhost:8080/"
        },
        "id": "MLoGFRX3HXEo",
        "outputId": "c20c99ec-edab-42df-b358-92c631685ffc"
      },
      "execution_count": 79,
      "outputs": [
        {
          "output_type": "stream",
          "name": "stdout",
          "text": [
            "Model: \"model_13\"\n",
            "_________________________________________________________________\n",
            " Layer (type)                Output Shape              Param #   \n",
            "=================================================================\n",
            " input_20 (InputLayer)       [(None, 100, 100, 3)]     0         \n",
            "                                                                 \n",
            " flatten_10 (Flatten)        (None, 30000)             0         \n",
            "                                                                 \n",
            " dense_57 (Dense)            (None, 400)               12000400  \n",
            "                                                                 \n",
            " dense_58 (Dense)            (None, 200)               80200     \n",
            "                                                                 \n",
            " dense_59 (Dense)            (None, 100)               20100     \n",
            "                                                                 \n",
            "=================================================================\n",
            "Total params: 12,100,700\n",
            "Trainable params: 12,100,700\n",
            "Non-trainable params: 0\n",
            "_________________________________________________________________\n"
          ]
        }
      ]
    },
    {
      "cell_type": "markdown",
      "source": [
        "**Subclass API**"
      ],
      "metadata": {
        "id": "-x-TZTI8IbkK"
      }
    },
    {
      "cell_type": "code",
      "source": [
        "class YourModel(models.Model):\n",
        "  def __init__(self, **kwargs):\n",
        "    super(YourModel, self).__init__(**kwargs)\n",
        "    # Flatten 레이어를 쌓으세요.\n",
        "    self.flat_layer = layers.Flatten()\n",
        "    # Unit의 수는 400, 활성화함수는 ReLU를 사용하는 Dense 레이어를 쌓으세요.\n",
        "    self.dense_layer1 = layers.Dense(100, activation='relu')\n",
        "    # Unit의 수는 200, 활성화함수는 ReLU를 사용하는 Dense 레이어를 쌓으세요.\n",
        "    self.dense_layer2 = layers.Dense(200, activation='relu')\n",
        "    # Unit의 수는 100, 활성화함수는 Softmax를 사용하는 Dense 레이어를 쌓으세요.\n",
        "    self.output_layer = layers.Dense(100, activation='softmax')\n",
        "\n",
        "\n",
        "  def call(self, inputs):\n",
        "    # Flatten 레이어를 통과한 뒤 Dense 레이어를 400 -> 200 -> 100 순으로 통과하도록 쌓으세요.\n",
        "    x = self.flat_layer(inputs)\n",
        "    x = self.dense_layer1(x)\n",
        "    x = self.dense_layer2(x)\n",
        "    x = self.output_layer(x)\n",
        "    return x\n",
        "\n",
        "# (100, 100, 3) 형태를 가진 임의의 텐서를 생성해줍니다.\n",
        "import tensorflow as tf\n",
        "data = tf.random.normal([100, 100, 3])\n",
        "# 데이터는 일반적으로 batch 단위로 들어가기 때문에 batch 차원을 추가해주겠습니다.\n",
        "data = tf.reshape(data, (-1, 100, 100, 3)) # (형태 바꿀 데이터, 바꿀 형태), -1인 형태를 나머지 차원으로부터 추론하는 것을 의미\n",
        "model = YourModel()\n",
        "model(data)\n",
        "\n",
        "model.summary()"
      ],
      "metadata": {
        "colab": {
          "base_uri": "https://localhost:8080/"
        },
        "id": "DQpi1_dwILti",
        "outputId": "c83d9c78-b8d5-4d79-baa0-f05f3e519608"
      },
      "execution_count": 87,
      "outputs": [
        {
          "output_type": "stream",
          "name": "stdout",
          "text": [
            "Model: \"your_model_2\"\n",
            "_________________________________________________________________\n",
            " Layer (type)                Output Shape              Param #   \n",
            "=================================================================\n",
            " flatten_13 (Flatten)        multiple                  0         \n",
            "                                                                 \n",
            " dense_66 (Dense)            multiple                  3000100   \n",
            "                                                                 \n",
            " dense_67 (Dense)            multiple                  20200     \n",
            "                                                                 \n",
            " dense_68 (Dense)            multiple                  20100     \n",
            "                                                                 \n",
            "=================================================================\n",
            "Total params: 3,040,400\n",
            "Trainable params: 3,040,400\n",
            "Non-trainable params: 0\n",
            "_________________________________________________________________\n"
          ]
        }
      ]
    }
  ]
}